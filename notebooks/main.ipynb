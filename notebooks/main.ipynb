{
 "cells": [
  {
   "cell_type": "code",
   "execution_count": 1,
   "id": "709e1e3a",
   "metadata": {},
   "outputs": [],
   "source": [
    "# import module and packages\n",
    "\n",
    "from src import helpers"
   ]
  },
  {
   "cell_type": "code",
   "execution_count": 2,
   "id": "0c6b3b60",
   "metadata": {},
   "outputs": [],
   "source": [
    "# read dataset\n",
    "\n",
    "images = helpers.read_images('../dataset')"
   ]
  },
  {
   "cell_type": "code",
   "execution_count": 3,
   "id": "e6263765",
   "metadata": {},
   "outputs": [
    {
     "ename": "RuntimeError",
     "evalue": "Exception thrown in SimpleITK ElastixImageFilter_Execute: /home/farshad/Project/SimpleElastix/source/Code/BasicFilters/src/sitkCastImageFilter.cxx:100:\nsitk::ERROR: Filter does not support casting from casting vector of 8-bit unsigned integer to 32-bit float",
     "output_type": "error",
     "traceback": [
      "\u001b[0;31m---------------------------------------------------------------------------\u001b[0m",
      "\u001b[0;31mRuntimeError\u001b[0m                              Traceback (most recent call last)",
      "Input \u001b[0;32mIn [3]\u001b[0m, in \u001b[0;36m<cell line: 3>\u001b[0;34m()\u001b[0m\n\u001b[1;32m      1\u001b[0m \u001b[38;5;66;03m# process\u001b[39;00m\n\u001b[0;32m----> 3\u001b[0m result \u001b[38;5;241m=\u001b[39m \u001b[43mhelpers\u001b[49m\u001b[38;5;241;43m.\u001b[39;49m\u001b[43mprocess_items\u001b[49m\u001b[43m(\u001b[49m\u001b[43mimages\u001b[49m\u001b[43m,\u001b[49m\u001b[43m \u001b[49m\u001b[38;5;241;43m1\u001b[39;49m\u001b[43m,\u001b[49m\u001b[43m \u001b[49m\u001b[38;5;241;43m5\u001b[39;49m\u001b[43m)\u001b[49m\n\u001b[1;32m      5\u001b[0m \u001b[38;5;28mprint\u001b[39m(result)\n",
      "File \u001b[0;32m~/Project/notebook/image-registration/src/helpers.py:44\u001b[0m, in \u001b[0;36mprocess_items\u001b[0;34m(images, start, end)\u001b[0m\n\u001b[1;32m     41\u001b[0m \u001b[38;5;28;01mfor\u001b[39;00m key \u001b[38;5;129;01min\u001b[39;00m images:\n\u001b[1;32m     43\u001b[0m     image \u001b[38;5;241m=\u001b[39m images[key]\n\u001b[0;32m---> 44\u001b[0m     item  \u001b[38;5;241m=\u001b[39m \u001b[43mprocess_item\u001b[49m\u001b[43m(\u001b[49m\u001b[43mimage\u001b[49m\u001b[43m[\u001b[49m\u001b[38;5;124;43m\"\u001b[39;49m\u001b[38;5;124;43m1\u001b[39;49m\u001b[38;5;124;43m\"\u001b[39;49m\u001b[43m]\u001b[49m\u001b[43m,\u001b[49m\u001b[43m \u001b[49m\u001b[43mimage\u001b[49m\u001b[43m[\u001b[49m\u001b[38;5;124;43m\"\u001b[39;49m\u001b[38;5;124;43m2\u001b[39;49m\u001b[38;5;124;43m\"\u001b[39;49m\u001b[43m]\u001b[49m\u001b[43m,\u001b[49m\u001b[43m \u001b[49m\u001b[43mres\u001b[49m\u001b[43m)\u001b[49m\n\u001b[1;32m     46\u001b[0m     \u001b[38;5;28mprint\u001b[39m(item)\n\u001b[1;32m     48\u001b[0m     result[key] \u001b[38;5;241m=\u001b[39m item\n",
      "File \u001b[0;32m~/Project/notebook/image-registration/src/helpers.py:66\u001b[0m, in \u001b[0;36mprocess_item\u001b[0;34m(image1, image2, res)\u001b[0m\n\u001b[1;32m     64\u001b[0m imageFilter\u001b[38;5;241m.\u001b[39mSetMovingImage(moving)\n\u001b[1;32m     65\u001b[0m imageFilter\u001b[38;5;241m.\u001b[39mSetParameterMap(parameters)\n\u001b[0;32m---> 66\u001b[0m \u001b[43mimageFilter\u001b[49m\u001b[38;5;241;43m.\u001b[39;49m\u001b[43mExecute\u001b[49m\u001b[43m(\u001b[49m\u001b[43m)\u001b[49m\n\u001b[1;32m     68\u001b[0m end \u001b[38;5;241m=\u001b[39m time\u001b[38;5;241m.\u001b[39mtime()\n\u001b[1;32m     70\u001b[0m result \u001b[38;5;241m=\u001b[39m elastixImageFilter\u001b[38;5;241m.\u001b[39mGetResultImage()\n",
      "File \u001b[0;32m/usr/local/lib/python3.8/dist-packages/SimpleITK-2.0.0rc2.dev910+ga138e-py3.8-linux-x86_64.egg/SimpleITK/SimpleITK.py:11130\u001b[0m, in \u001b[0;36mElastixImageFilter.Execute\u001b[0;34m(self)\u001b[0m\n\u001b[1;32m  11128\u001b[0m \u001b[38;5;28;01mdef\u001b[39;00m \u001b[38;5;21mExecute\u001b[39m(\u001b[38;5;28mself\u001b[39m):\n\u001b[1;32m  11129\u001b[0m     \u001b[38;5;124;03m\"\"\"Execute(ElastixImageFilter self) -> Image\"\"\"\u001b[39;00m\n\u001b[0;32m> 11130\u001b[0m     \u001b[38;5;28;01mreturn\u001b[39;00m \u001b[43m_SimpleITK\u001b[49m\u001b[38;5;241;43m.\u001b[39;49m\u001b[43mElastixImageFilter_Execute\u001b[49m\u001b[43m(\u001b[49m\u001b[38;5;28;43mself\u001b[39;49m\u001b[43m)\u001b[49m\n",
      "\u001b[0;31mRuntimeError\u001b[0m: Exception thrown in SimpleITK ElastixImageFilter_Execute: /home/farshad/Project/SimpleElastix/source/Code/BasicFilters/src/sitkCastImageFilter.cxx:100:\nsitk::ERROR: Filter does not support casting from casting vector of 8-bit unsigned integer to 32-bit float"
     ]
    }
   ],
   "source": [
    "# process\n",
    "\n",
    "result = helpers.process_items(images, 1, 5)\n",
    "\n",
    "print(result)"
   ]
  },
  {
   "cell_type": "code",
   "execution_count": null,
   "id": "650baf80",
   "metadata": {},
   "outputs": [],
   "source": []
  }
 ],
 "metadata": {
  "kernelspec": {
   "display_name": "Python 3 (ipykernel)",
   "language": "python",
   "name": "python3"
  },
  "language_info": {
   "codemirror_mode": {
    "name": "ipython",
    "version": 3
   },
   "file_extension": ".py",
   "mimetype": "text/x-python",
   "name": "python",
   "nbconvert_exporter": "python",
   "pygments_lexer": "ipython3",
   "version": "3.8.10"
  }
 },
 "nbformat": 4,
 "nbformat_minor": 5
}
